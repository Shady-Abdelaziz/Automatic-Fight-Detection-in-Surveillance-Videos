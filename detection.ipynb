{
 "cells": [
  {
   "cell_type": "markdown",
   "metadata": {
    "id": "lvtRmFtff__r"
   },
   "source": [
    "# Predicting the video"
   ]
  },
  {
   "cell_type": "markdown",
   "metadata": {
    "id": "pFTQOVLgf__w"
   },
   "source": [
    "Requirements:\n",
    "tensorflow==2.3.0\n",
    "keras==2.4.3\n",
    "scikit-learn==0.23.2\n"
   ]
  },
  {
   "cell_type": "code",
   "execution_count": 1,
   "metadata": {
    "id": "DubAfELcf__z"
   },
   "outputs": [],
   "source": [
    "from keras.models import load_model\n",
    "from collections import deque\n",
    "import matplotlib.pyplot as plt\n",
    "import numpy as np\n",
    "\n",
    "import pickle\n",
    "import cv2"
   ]
  },
  {
   "cell_type": "code",
   "execution_count": 2,
   "metadata": {
    "id": "WzigahMcf__0"
   },
   "outputs": [],
   "source": [
    "\n",
    "import numpy as np\n",
    "import pickle\n",
    "import cv2\n",
    "import os\n",
    "import time\n",
    "from keras.models import load_model\n",
    "from collections import deque\n",
    "\n",
    "def print_results(video, limit=None):\n",
    "        #fig=plt.figure(figsize=(16, 30))\n",
    "        if not os.path.exists('output'):\n",
    "            os.mkdir('output')\n",
    "\n",
    "        print(\"Loading model ...\")\n",
    "        model = load_model('96.h5')\n",
    "        Q = deque(maxlen=128)\n",
    "        vs = cv2.VideoCapture(video)\n",
    "        writer = None\n",
    "        (W, H) = (None, None)\n",
    "        count = 0\n",
    "        while True:\n",
    "            # read the next frame from the file\n",
    "            (grabbed, frame) = vs.read()\n",
    "\n",
    "            # if the frame was not grabbed, then we have reached the end of the stream\n",
    "            if not grabbed:\n",
    "                break\n",
    "\n",
    "            # if the frame dimensions are empty, grab them\n",
    "            if W is None or H is None:\n",
    "                (H, W) = frame.shape[:2]\n",
    "\n",
    "            # clone the output frame, then convert it from BGR to RGB\n",
    "            # ordering, resize the frame to a fixed 128x128, and then\n",
    "            # perform mean subtraction\n",
    "\n",
    "\n",
    "            output = frame.copy()\n",
    "\n",
    "            frame = cv2.cvtColor(frame, cv2.COLOR_BGR2RGB)\n",
    "            frame = cv2.resize(frame, (128, 128)).astype(\"float32\")\n",
    "            frame = frame.reshape(128, 128, 3) / 255\n",
    "\n",
    "            # make predictions on the frame and then update the predictions\n",
    "            # queue\n",
    "            preds = model.predict(np.expand_dims(frame, axis=0))[0]\n",
    "            print(\"preds\",preds)\n",
    "            Q.append(preds)\n",
    "\n",
    "            # perform prediction averaging over the current history of\n",
    "            # previous predictions\n",
    "            results = np.array(Q).mean(axis=0)\n",
    "            i = (preds > 0.60)[0]\n",
    "            label = i\n",
    "\n",
    "            text_color = (0, 255, 0) # default : green\n",
    "\n",
    "            if label: # Violence prob\n",
    "                text_color = (0, 0, 255) # red\n",
    "\n",
    "            else:\n",
    "                text_color = (0, 255, 0)\n",
    "\n",
    "            text = \"Violence: {}\".format(label)\n",
    "            FONT = cv2.FONT_HERSHEY_SIMPLEX\n",
    "\n",
    "            cv2.putText(output, text, (35, 50), FONT,1.25, text_color, 3)\n",
    "\n",
    "            # check if the video writer is None\n",
    "            if writer is None:\n",
    "                # initialize our video writer\n",
    "                fourcc = cv2.VideoWriter_fourcc(*\"MJPG\")\n",
    "                writer = cv2.VideoWriter(\"output/v_output.avi\", fourcc, 30,(W, H), True)\n",
    "\n",
    "            # write the output frame to disk\n",
    "            writer.write(output)\n",
    "\n",
    "            # show the output image\n",
    "            cv2.imshow(\"shady\",output)\n",
    "            key = cv2.waitKey(1) & 0xFF\n",
    "\n",
    "            # if the `q` key was pressed, break from the loop\n",
    "            if key == ord(\"q\"):\n",
    "                break\n",
    "        # release the file pointersq\n",
    "        print(\"[INFO] cleaning up...\")\n",
    "        writer.release()\n",
    "        vs.release()"
   ]
  },
  {
   "cell_type": "code",
   "execution_count": 3,
   "metadata": {
    "id": "yGp43IK1f__2",
    "pycharm": {
     "name": "#%%\n"
    }
   },
   "outputs": [
    {
     "name": "stdout",
     "output_type": "stream",
     "text": [
      "Loading model ...\n",
      "preds [0.11402529]\n",
      "preds [0.08651927]\n",
      "preds [0.0855487]\n",
      "preds [0.0625307]\n",
      "preds [0.04385781]\n",
      "preds [0.03707403]\n",
      "preds [0.06124589]\n",
      "preds [0.06332883]\n",
      "preds [0.05812222]\n",
      "preds [0.07627597]\n",
      "preds [0.01760754]\n",
      "preds [0.01224297]\n",
      "preds [0.01467988]\n",
      "preds [0.05594692]\n",
      "preds [0.01666012]\n",
      "preds [0.03133491]\n",
      "preds [0.01076195]\n",
      "preds [0.03621045]\n",
      "preds [0.08497515]\n",
      "preds [0.04138526]\n",
      "preds [0.06243765]\n",
      "preds [0.01644266]\n",
      "preds [0.03176546]\n",
      "preds [0.02703917]\n",
      "preds [0.02708161]\n",
      "preds [0.02798569]\n",
      "preds [0.02524108]\n",
      "preds [0.02338117]\n",
      "preds [0.02133557]\n",
      "preds [0.01070306]\n",
      "preds [0.00646725]\n",
      "preds [0.00861302]\n",
      "preds [0.01823705]\n",
      "preds [0.00555557]\n",
      "preds [0.0080314]\n",
      "preds [0.02215236]\n",
      "preds [0.02760956]\n",
      "preds [0.01303309]\n",
      "preds [0.00651717]\n",
      "preds [0.00519589]\n",
      "preds [0.00175866]\n",
      "preds [0.00338188]\n",
      "preds [0.00543454]\n",
      "preds [0.01104286]\n",
      "preds [0.01100761]\n",
      "preds [0.01802289]\n",
      "preds [0.00835338]\n"
     ]
    },
    {
     "name": "stderr",
     "output_type": "stream",
     "text": [
      "\n",
      "KeyboardInterrupt\n",
      "\n"
     ]
    }
   ],
   "source": [
    "video = r\"C:\\Users\\DELL\\Downloads\\DATASET\\ForTal\\tra.mp4\"\n",
    "print_results(video)"
   ]
  },
  {
   "cell_type": "code",
   "execution_count": null,
   "outputs": [],
   "source": [],
   "metadata": {
    "collapsed": false,
    "pycharm": {
     "name": "#%%\n"
    }
   }
  }
 ],
 "metadata": {
  "accelerator": "GPU",
  "colab": {
   "collapsed_sections": [],
   "name": "violencepred.ipynb",
   "provenance": []
  },
  "kernelspec": {
   "display_name": "Python 3",
   "language": "python",
   "name": "python3"
  },
  "language_info": {
   "codemirror_mode": {
    "name": "ipython",
    "version": 3
   },
   "file_extension": ".py",
   "mimetype": "text/x-python",
   "name": "python",
   "nbconvert_exporter": "python",
   "pygments_lexer": "ipython3",
   "version": "3.8.5"
  }
 },
 "nbformat": 4,
 "nbformat_minor": 0
}
